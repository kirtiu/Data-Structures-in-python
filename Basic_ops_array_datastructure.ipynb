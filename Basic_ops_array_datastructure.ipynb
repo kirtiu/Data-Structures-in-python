{
 "cells": [
  {
   "cell_type": "markdown",
   "metadata": {},
   "source": [
    "#creating user defined array"
   ]
  },
  {
   "cell_type": "code",
   "execution_count": 4,
   "metadata": {},
   "outputs": [
    {
     "name": "stdin",
     "output_type": "stream",
     "text": [
      "Enter number of subjects 4\n",
      "enter marks of subject 1 90\n",
      "enter marks of subject 2 80\n",
      "enter marks of subject 3 70\n",
      "enter marks of subject 4 89\n"
     ]
    },
    {
     "name": "stdout",
     "output_type": "stream",
     "text": [
      "marks:  [90, 80, 70, 89]\n"
     ]
    }
   ],
   "source": [
    "subject=int(input(\"Enter number of subjects\"))\n",
    "marks=[]\n",
    "for i in range(subject):\n",
    "    number=int(input(\"enter marks of subject {}\".format(i+1)))\n",
    "    marks.append(number)\n",
    "print(\"marks: \" ,marks)"
   ]
  },
  {
   "cell_type": "code",
   "execution_count": 5,
   "metadata": {},
   "outputs": [],
   "source": [
    "#Use of append---insert element at the end"
   ]
  },
  {
   "cell_type": "code",
   "execution_count": 6,
   "metadata": {},
   "outputs": [
    {
     "name": "stdout",
     "output_type": "stream",
     "text": [
      "[90, 80, 70, 89, 90]\n"
     ]
    }
   ],
   "source": [
    "marks.append(90)\n",
    "print(marks)"
   ]
  },
  {
   "cell_type": "code",
   "execution_count": 7,
   "metadata": {},
   "outputs": [],
   "source": [
    "#use of remove--remove any element"
   ]
  },
  {
   "cell_type": "code",
   "execution_count": 8,
   "metadata": {},
   "outputs": [
    {
     "name": "stdout",
     "output_type": "stream",
     "text": [
      "[90, 70, 89, 90]\n"
     ]
    }
   ],
   "source": [
    "marks.remove(80)\n",
    "print(marks)"
   ]
  },
  {
   "cell_type": "code",
   "execution_count": 9,
   "metadata": {},
   "outputs": [],
   "source": [
    "#use of insert---insert element at the specified location"
   ]
  },
  {
   "cell_type": "code",
   "execution_count": 10,
   "metadata": {},
   "outputs": [
    {
     "name": "stdout",
     "output_type": "stream",
     "text": [
      "[90, 70, 99.2, 89, 90]\n"
     ]
    }
   ],
   "source": [
    "marks.insert(2,99.2)\n",
    "print(marks)"
   ]
  },
  {
   "cell_type": "code",
   "execution_count": 13,
   "metadata": {},
   "outputs": [],
   "source": [
    "#Sort the array---sorts asc order"
   ]
  },
  {
   "cell_type": "code",
   "execution_count": 15,
   "metadata": {},
   "outputs": [
    {
     "name": "stdout",
     "output_type": "stream",
     "text": [
      "[70, 89, 90, 90, 99.2]\n"
     ]
    }
   ],
   "source": [
    "marks.sort()\n",
    "print(marks)"
   ]
  },
  {
   "cell_type": "code",
   "execution_count": 17,
   "metadata": {},
   "outputs": [],
   "source": [
    "#reverse the array"
   ]
  },
  {
   "cell_type": "code",
   "execution_count": 12,
   "metadata": {},
   "outputs": [
    {
     "name": "stdout",
     "output_type": "stream",
     "text": [
      "[99.2, 90, 90, 89, 70]\n"
     ]
    }
   ],
   "source": [
    "marks.reverse()\n",
    "print(marks)"
   ]
  },
  {
   "cell_type": "code",
   "execution_count": null,
   "metadata": {},
   "outputs": [],
   "source": [
    "#max and min of the array"
   ]
  },
  {
   "cell_type": "code",
   "execution_count": 19,
   "metadata": {},
   "outputs": [
    {
     "name": "stdout",
     "output_type": "stream",
     "text": [
      "99.2\n"
     ]
    },
    {
     "data": {
      "text/plain": [
       "70"
      ]
     },
     "execution_count": 19,
     "metadata": {},
     "output_type": "execute_result"
    }
   ],
   "source": [
    "a=max(marks)\n",
    "print(a)\n",
    "b=min(marks)\n",
    "b"
   ]
  },
  {
   "cell_type": "markdown",
   "metadata": {},
   "source": [
    "#max and min element of an array"
   ]
  },
  {
   "cell_type": "code",
   "execution_count": 16,
   "metadata": {},
   "outputs": [
    {
     "name": "stdout",
     "output_type": "stream",
     "text": [
      "Maximum element is: 200\n",
      "Minimum element is: 10\n"
     ]
    }
   ],
   "source": [
    "arr = [10, 50, 200, 80, 15]\n",
    "max_val = arr[0]\n",
    "min_val = arr[0]\n",
    "for i in range(1, len(arr)):\n",
    "    if arr[i] > max_val:\n",
    "        max_val = arr[i]\n",
    "    if arr[i] < min_val:\n",
    "        min_val = arr[i]\n",
    "print(\"Maximum element is:\", max_val)\n",
    "print(\"Minimum element is:\", min_val)\n",
    "\n"
   ]
  },
  {
   "cell_type": "code",
   "execution_count": null,
   "metadata": {},
   "outputs": [],
   "source": []
  }
 ],
 "metadata": {
  "kernelspec": {
   "display_name": "Python 3 (ipykernel)",
   "language": "python",
   "name": "python3"
  },
  "language_info": {
   "codemirror_mode": {
    "name": "ipython",
    "version": 3
   },
   "file_extension": ".py",
   "mimetype": "text/x-python",
   "name": "python",
   "nbconvert_exporter": "python",
   "pygments_lexer": "ipython3",
   "version": "3.11.7"
  }
 },
 "nbformat": 4,
 "nbformat_minor": 4
}
